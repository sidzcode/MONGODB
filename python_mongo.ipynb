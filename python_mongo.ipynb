{
 "cells": [
  {
   "cell_type": "code",
   "execution_count": 3,
   "metadata": {},
   "outputs": [
    {
     "name": "stdout",
     "output_type": "stream",
     "text": [
      "Requirement already satisfied: pymongo in c:\\users\\siddhi\\appdata\\local\\programs\\python\\python312\\lib\\site-packages (4.6.2)\n",
      "Requirement already satisfied: dnspython<3.0.0,>=1.16.0 in c:\\users\\siddhi\\appdata\\local\\programs\\python\\python312\\lib\\site-packages (from pymongo) (2.6.1)\n"
     ]
    },
    {
     "name": "stderr",
     "output_type": "stream",
     "text": [
      "\n",
      "[notice] A new release of pip is available: 23.2.1 -> 24.0\n",
      "[notice] To update, run: python.exe -m pip install --upgrade pip\n"
     ]
    }
   ],
   "source": [
    "!pip install pymongo\n"
   ]
  },
  {
   "cell_type": "code",
   "execution_count": 4,
   "metadata": {},
   "outputs": [],
   "source": [
    "import sys"
   ]
  },
  {
   "cell_type": "code",
   "execution_count": 5,
   "metadata": {},
   "outputs": [
    {
     "name": "stdout",
     "output_type": "stream",
     "text": [
      "['c:\\\\Users\\\\Siddhi\\\\Desktop\\\\SIG Sem-2\\\\mongodb', 'c:\\\\Users\\\\Siddhi\\\\AppData\\\\Local\\\\Programs\\\\Python\\\\Python312\\\\python312.zip', 'c:\\\\Users\\\\Siddhi\\\\AppData\\\\Local\\\\Programs\\\\Python\\\\Python312\\\\DLLs', 'c:\\\\Users\\\\Siddhi\\\\AppData\\\\Local\\\\Programs\\\\Python\\\\Python312\\\\Lib', 'c:\\\\Users\\\\Siddhi\\\\AppData\\\\Local\\\\Programs\\\\Python\\\\Python312', '', 'c:\\\\Users\\\\Siddhi\\\\AppData\\\\Local\\\\Programs\\\\Python\\\\Python312\\\\Lib\\\\site-packages', 'c:\\\\Users\\\\Siddhi\\\\AppData\\\\Local\\\\Programs\\\\Python\\\\Python312\\\\Lib\\\\site-packages\\\\win32', 'c:\\\\Users\\\\Siddhi\\\\AppData\\\\Local\\\\Programs\\\\Python\\\\Python312\\\\Lib\\\\site-packages\\\\win32\\\\lib', 'c:\\\\Users\\\\Siddhi\\\\AppData\\\\Local\\\\Programs\\\\Python\\\\Python312\\\\Lib\\\\site-packages\\\\Pythonwin']\n"
     ]
    }
   ],
   "source": [
    "print(sys.path)"
   ]
  },
  {
   "cell_type": "code",
   "execution_count": 6,
   "metadata": {},
   "outputs": [],
   "source": [
    "import pymongo"
   ]
  },
  {
   "cell_type": "code",
   "execution_count": 7,
   "metadata": {},
   "outputs": [],
   "source": [
    "mongoClient = pymongo.MongoClient(\"mongodb://localhost:27017/\")"
   ]
  },
  {
   "cell_type": "code",
   "execution_count": 8,
   "metadata": {},
   "outputs": [
    {
     "name": "stdout",
     "output_type": "stream",
     "text": [
      "['7march', 'SIG', 'admin', 'biosdata', 'config', 'local', 'test']\n"
     ]
    }
   ],
   "source": [
    "print(mongoClient.list_database_names())"
   ]
  },
  {
   "cell_type": "code",
   "execution_count": 9,
   "metadata": {},
   "outputs": [
    {
     "name": "stdout",
     "output_type": "stream",
     "text": [
      "database exists\n"
     ]
    }
   ],
   "source": [
    "if(\"biosdata\" in mongoClient.list_database_names()):\n",
    "    print('database exists')\n",
    "else:\n",
    "    print('Database doesnt exists')"
   ]
  },
  {
   "cell_type": "code",
   "execution_count": 10,
   "metadata": {},
   "outputs": [],
   "source": [
    "mydb = mongoClient[\"biosdata\"]\n",
    "mycol = mydb[\"bios\"]"
   ]
  },
  {
   "cell_type": "code",
   "execution_count": 11,
   "metadata": {},
   "outputs": [
    {
     "data": {
      "text/plain": [
       "{'_id': 1,\n",
       " 'name': {'first': 'John', 'last': 'Backus'},\n",
       " 'birth': datetime.datetime(1924, 12, 3, 5, 0),\n",
       " 'death': datetime.datetime(2007, 3, 17, 4, 0),\n",
       " 'contribs': ['Fortran', 'ALGOL', 'Backus-Naur Form', 'FP'],\n",
       " 'awards': [{'award': 'W.W. McDowell Award',\n",
       "   'year': 1967,\n",
       "   'by': 'IEEE Computer Society'},\n",
       "  {'award': 'National Medal of Science',\n",
       "   'year': 1975,\n",
       "   'by': 'National Science Foundation'},\n",
       "  {'award': 'Turing Award', 'year': 1977, 'by': 'ACM'},\n",
       "  {'award': 'Draper Prize',\n",
       "   'year': 1993,\n",
       "   'by': 'National Academy of Engineering'}]}"
      ]
     },
     "execution_count": 11,
     "metadata": {},
     "output_type": "execute_result"
    }
   ],
   "source": [
    "doc=mycol.find_one()\n",
    "doc"
   ]
  },
  {
   "cell_type": "code",
   "execution_count": 12,
   "metadata": {},
   "outputs": [],
   "source": [
    "cur = mycol.find()"
   ]
  },
  {
   "cell_type": "code",
   "execution_count": 13,
   "metadata": {},
   "outputs": [
    {
     "name": "stdout",
     "output_type": "stream",
     "text": [
      "{'_id': 1, 'name': {'first': 'John', 'last': 'Backus'}, 'birth': datetime.datetime(1924, 12, 3, 5, 0), 'death': datetime.datetime(2007, 3, 17, 4, 0), 'contribs': ['Fortran', 'ALGOL', 'Backus-Naur Form', 'FP'], 'awards': [{'award': 'W.W. McDowell Award', 'year': 1967, 'by': 'IEEE Computer Society'}, {'award': 'National Medal of Science', 'year': 1975, 'by': 'National Science Foundation'}, {'award': 'Turing Award', 'year': 1977, 'by': 'ACM'}, {'award': 'Draper Prize', 'year': 1993, 'by': 'National Academy of Engineering'}]}\n",
      "{'_id': ObjectId('51df07b094c6acd67e492f41'), 'name': {'first': 'John', 'last': 'McCarthy'}, 'birth': datetime.datetime(1927, 9, 4, 4, 0), 'death': datetime.datetime(2011, 12, 24, 5, 0), 'contribs': ['Lisp', 'Artificial Intelligence', 'ALGOL'], 'awards': [{'award': 'Turing Award', 'year': 1971, 'by': 'ACM'}, {'award': 'Kyoto Prize', 'year': 1988, 'by': 'Inamori Foundation'}, {'award': 'National Medal of Science', 'year': 1990, 'by': 'National Science Foundation'}]}\n",
      "{'_id': 3, 'name': {'first': 'Grace', 'last': 'Hopper'}, 'title': 'Rear Admiral', 'birth': datetime.datetime(1906, 12, 9, 5, 0), 'death': datetime.datetime(1992, 1, 1, 5, 0), 'contribs': ['UNIVAC', 'compiler', 'FLOW-MATIC', 'COBOL'], 'awards': [{'award': 'Computer Sciences Man of the Year', 'year': 1969, 'by': 'Data Processing Management Association'}, {'award': 'Distinguished Fellow', 'year': 1973, 'by': ' British Computer Society'}, {'award': 'W. W. McDowell Award', 'year': 1976, 'by': 'IEEE Computer Society'}, {'award': 'National Medal of Technology', 'year': 1991, 'by': 'United States'}]}\n",
      "{'_id': 4, 'name': {'first': 'Kristen', 'last': 'Nygaard'}, 'birth': datetime.datetime(1926, 8, 27, 4, 0), 'death': datetime.datetime(2002, 8, 10, 4, 0), 'contribs': ['OOP', 'Simula'], 'awards': [{'award': 'Rosing Prize', 'year': 1999, 'by': 'Norwegian Data Association'}, {'award': 'Turing Award', 'year': 2001, 'by': 'ACM'}, {'award': 'IEEE John von Neumann Medal', 'year': 2001, 'by': 'IEEE'}]}\n",
      "{'_id': 5, 'name': {'first': 'Ole-Johan', 'last': 'Dahl'}, 'birth': datetime.datetime(1931, 10, 12, 4, 0), 'death': datetime.datetime(2002, 6, 29, 4, 0), 'contribs': ['OOP', 'Simula'], 'awards': [{'award': 'Rosing Prize', 'year': 1999, 'by': 'Norwegian Data Association'}, {'award': 'Turing Award', 'year': 2001, 'by': 'ACM'}, {'award': 'IEEE John von Neumann Medal', 'year': 2001, 'by': 'IEEE'}]}\n",
      "{'_id': 6, 'name': {'first': 'Guido', 'last': 'van Rossum'}, 'birth': datetime.datetime(1956, 1, 31, 5, 0), 'contribs': ['Python'], 'awards': [{'award': 'Award for the Advancement of Free Software', 'year': 2001, 'by': 'Free Software Foundation'}, {'award': 'NLUUG Award', 'year': 2003, 'by': 'NLUUG'}]}\n",
      "{'_id': ObjectId('51e062189c6ae665454e301d'), 'name': {'first': 'Dennis', 'last': 'Ritchie'}, 'birth': datetime.datetime(1941, 9, 9, 4, 0), 'death': datetime.datetime(2011, 10, 12, 4, 0), 'contribs': ['UNIX', 'C'], 'awards': [{'award': 'Turing Award', 'year': 1983, 'by': 'ACM'}, {'award': 'National Medal of Technology', 'year': 1998, 'by': 'United States'}, {'award': 'Japan Prize', 'year': 2011, 'by': 'The Japan Prize Foundation'}]}\n",
      "{'_id': 8, 'name': {'first': 'Yukihiro', 'aka': 'Matz', 'last': 'Matsumoto'}, 'birth': datetime.datetime(1965, 4, 14, 4, 0), 'contribs': ['Ruby'], 'awards': [{'award': 'Award for the Advancement of Free Software', 'year': '2011', 'by': 'Free Software Foundation'}]}\n",
      "{'_id': 9, 'name': {'first': 'James', 'last': 'Gosling'}, 'birth': datetime.datetime(1955, 5, 19, 4, 0), 'contribs': ['Java'], 'awards': [{'award': 'The Economist Innovation Award', 'year': 2002, 'by': 'The Economist'}, {'award': 'Officer of the Order of Canada', 'year': 2007, 'by': 'Canada'}]}\n",
      "{'_id': 10, 'name': {'first': 'Martin', 'last': 'Odersky'}, 'contribs': ['Scala']}\n"
     ]
    }
   ],
   "source": [
    "for doc in mycol.find():\n",
    "    print(doc)"
   ]
  },
  {
   "cell_type": "code",
   "execution_count": 14,
   "metadata": {},
   "outputs": [
    {
     "name": "stdout",
     "output_type": "stream",
     "text": [
      "{'_id': 1, 'name': {'first': 'John', 'last': 'Backus'}, 'birth': datetime.datetime(1924, 12, 3, 5, 0), 'death': datetime.datetime(2007, 3, 17, 4, 0), 'contribs': ['Fortran', 'ALGOL', 'Backus-Naur Form', 'FP'], 'awards': [{'award': 'W.W. McDowell Award', 'year': 1967, 'by': 'IEEE Computer Society'}, {'award': 'National Medal of Science', 'year': 1975, 'by': 'National Science Foundation'}, {'award': 'Turing Award', 'year': 1977, 'by': 'ACM'}, {'award': 'Draper Prize', 'year': 1993, 'by': 'National Academy of Engineering'}]}\n",
      "{'_id': ObjectId('51df07b094c6acd67e492f41'), 'name': {'first': 'John', 'last': 'McCarthy'}, 'birth': datetime.datetime(1927, 9, 4, 4, 0), 'death': datetime.datetime(2011, 12, 24, 5, 0), 'contribs': ['Lisp', 'Artificial Intelligence', 'ALGOL'], 'awards': [{'award': 'Turing Award', 'year': 1971, 'by': 'ACM'}, {'award': 'Kyoto Prize', 'year': 1988, 'by': 'Inamori Foundation'}, {'award': 'National Medal of Science', 'year': 1990, 'by': 'National Science Foundation'}]}\n",
      "{'_id': 4, 'name': {'first': 'Kristen', 'last': 'Nygaard'}, 'birth': datetime.datetime(1926, 8, 27, 4, 0), 'death': datetime.datetime(2002, 8, 10, 4, 0), 'contribs': ['OOP', 'Simula'], 'awards': [{'award': 'Rosing Prize', 'year': 1999, 'by': 'Norwegian Data Association'}, {'award': 'Turing Award', 'year': 2001, 'by': 'ACM'}, {'award': 'IEEE John von Neumann Medal', 'year': 2001, 'by': 'IEEE'}]}\n",
      "{'_id': 5, 'name': {'first': 'Ole-Johan', 'last': 'Dahl'}, 'birth': datetime.datetime(1931, 10, 12, 4, 0), 'death': datetime.datetime(2002, 6, 29, 4, 0), 'contribs': ['OOP', 'Simula'], 'awards': [{'award': 'Rosing Prize', 'year': 1999, 'by': 'Norwegian Data Association'}, {'award': 'Turing Award', 'year': 2001, 'by': 'ACM'}, {'award': 'IEEE John von Neumann Medal', 'year': 2001, 'by': 'IEEE'}]}\n",
      "{'_id': ObjectId('51e062189c6ae665454e301d'), 'name': {'first': 'Dennis', 'last': 'Ritchie'}, 'birth': datetime.datetime(1941, 9, 9, 4, 0), 'death': datetime.datetime(2011, 10, 12, 4, 0), 'contribs': ['UNIX', 'C'], 'awards': [{'award': 'Turing Award', 'year': 1983, 'by': 'ACM'}, {'award': 'National Medal of Technology', 'year': 1998, 'by': 'United States'}, {'award': 'Japan Prize', 'year': 2011, 'by': 'The Japan Prize Foundation'}]}\n"
     ]
    }
   ],
   "source": [
    "for doc in mycol.find({\"awards.award\":\"Turing Award\"}):\n",
    "    print(doc)"
   ]
  },
  {
   "cell_type": "code",
   "execution_count": 15,
   "metadata": {},
   "outputs": [
    {
     "name": "stdout",
     "output_type": "stream",
     "text": [
      "{'_id': 6, 'name': {'first': 'Guido', 'last': 'van Rossum'}, 'birth': datetime.datetime(1956, 1, 31, 5, 0), 'contribs': ['Python'], 'awards': [{'award': 'Award for the Advancement of Free Software', 'year': 2001, 'by': 'Free Software Foundation'}, {'award': 'NLUUG Award', 'year': 2003, 'by': 'NLUUG'}]}\n",
      "{'_id': 8, 'name': {'first': 'Yukihiro', 'aka': 'Matz', 'last': 'Matsumoto'}, 'birth': datetime.datetime(1965, 4, 14, 4, 0), 'contribs': ['Ruby'], 'awards': [{'award': 'Award for the Advancement of Free Software', 'year': '2011', 'by': 'Free Software Foundation'}]}\n",
      "{'_id': 9, 'name': {'first': 'James', 'last': 'Gosling'}, 'birth': datetime.datetime(1955, 5, 19, 4, 0), 'contribs': ['Java'], 'awards': [{'award': 'The Economist Innovation Award', 'year': 2002, 'by': 'The Economist'}, {'award': 'Officer of the Order of Canada', 'year': 2007, 'by': 'Canada'}]}\n",
      "{'_id': 10, 'name': {'first': 'Martin', 'last': 'Odersky'}, 'contribs': ['Scala']}\n"
     ]
    }
   ],
   "source": [
    "for doc in mycol.find({\"death\":{\"$exists\":False}}):\n",
    "    print(doc)"
   ]
  },
  {
   "cell_type": "code",
   "execution_count": 16,
   "metadata": {},
   "outputs": [],
   "source": [
    "#mongoClient.close()"
   ]
  },
  {
   "cell_type": "code",
   "execution_count": 17,
   "metadata": {},
   "outputs": [],
   "source": [
    "import datetime\n",
    "newdocs = {\"name\" : {\n",
    "           \"first\" : \"Siddhi\",\n",
    "           \"last\" : \"Jadhav\"\n",
    "       },\n",
    "       \"birth\" : datetime.datetime(2015,1,31,5,0),\n",
    "       \"contribs\" : [\n",
    "           \"Fortran\",\n",
    "           \"ALGOL\",\n",
    "           \"Backus-Naur Form\",\n",
    "           \"FP\"\n",
    "       ],\n",
    "       \"awards\" : [\n",
    "           {\n",
    "               \"award\" : \"The best\",\n",
    "               \"year\" : 1997,\n",
    "               \"by\" : \"IEEE \"\n",
    "           }]}\n"
   ]
  },
  {
   "cell_type": "code",
   "execution_count": 18,
   "metadata": {},
   "outputs": [],
   "source": [
    "result = mycol.insert_one(newdocs)"
   ]
  },
  {
   "cell_type": "code",
   "execution_count": 19,
   "metadata": {},
   "outputs": [
    {
     "name": "stdout",
     "output_type": "stream",
     "text": [
      "InsertOneResult(ObjectId('65fa7e6fd2a856a704201d5e'), acknowledged=True)\n"
     ]
    }
   ],
   "source": [
    "print(result)"
   ]
  },
  {
   "cell_type": "code",
   "execution_count": 21,
   "metadata": {},
   "outputs": [
    {
     "name": "stdout",
     "output_type": "stream",
     "text": [
      "{'status': 'ok', 'totalResults': 38, 'articles': [{'source': {'id': 'google-news', 'name': 'Google News'}, 'author': None, 'title': '\"I Am Very Tough Guy To Handle\": Gambhir\\'s Blunt Message To KKR Bosses - NDTV Sports', 'description': 'Comprehensive up-to-date news coverage, aggregated from sources all over the world by Google News.', 'url': 'https://news.google.com/rss/articles/CBMifmh0dHBzOi8vc3BvcnRzLm5kdHYuY29tL2lwbC0yMDI0L21ha2UtaXQtb3ItYnJlYWstaXQta2tyLW1lbnRvci1nYXV0YW0tZ2FtYmhpci1yZXZlYWxzLXNoYWgtcnVraC1raGFucy1zcGVjaWFsLW1lc3NhZ2UtNTI2MzkzM9IBhAFodHRwczovL3Nwb3J0cy5uZHR2LmNvbS9pcGwtMjAyNC9tYWtlLWl0LW9yLWJyZWFrLWl0LWtrci1tZW50b3ItZ2F1dGFtLWdhbWJoaXItcmV2ZWFscy1zaGFoLXJ1a2gta2hhbnMtc3BlY2lhbC1tZXNzYWdlLTUyNjM5MzMvYW1wLzE', 'urlToImage': 'https://lh3.googleusercontent.com/J6_coFbogxhRI9iM864NL_liGXvsQp2AupsKei7z0cNNfDvGUmWUy20nuUhkREQyrpY4bEeIBuc=s0-w300-rw', 'publishedAt': '2024-03-19T04:25:00Z', 'content': None}, {'source': {'id': 'the-times-of-india', 'name': 'The Times of India'}, 'author': 'Gaurav Gupta', 'title': 'IPL 2024: Rohit Sharma will have his hand on my shoulder, says Hardik Pandya - The Times of India', 'description': \"Cricket News: Hardik Pandya, the new skipper of Mumbai Indians, remains unfazed by fan backlash. He discussed legacy, IPL-2024 plans, and Rohit Sharma's support, re\", 'url': 'https://timesofindia.indiatimes.com/sports/cricket/ipl/top-stories/ipl-2024-rohit-sharma-will-have-his-hand-on-my-shoulder-says-hardik-pandya/articleshow/108602721.cms', 'urlToImage': 'https://static.toiimg.com/thumb/msid-108602794,width-1070,height-580,imgsize-65628,resizemode-75,overlay-toi_sw,pt-32,y_pad-40/photo.jpg', 'publishedAt': '2024-03-19T03:41:00Z', 'content': 'Most runs in a single PSL season'}, {'source': {'id': None, 'name': 'Livemint'}, 'author': 'Livemint', 'title': \"'India committed to combating piracy and terrorism in Indian Ocean region,' says PM Modi | Mint - Mint\", 'description': \"PM Modi appreciates President Rumen Radev's message thanking India for rescuing 7 Bulgarian nationals from a hijacked ship. Indian Navy successfully corners and coerces 35 pirates to surrender in an anti-piracy operation in the Indian Ocean region..\", 'url': 'https://www.livemint.com/news/india/ins-kolkata-india-combating-piracy-terrorism-indian-ocean-ior-pm-modi-bulgaria-rumen-radev-ruen-somali-pirates-marcos-11710817597140.html', 'urlToImage': 'https://www.livemint.com/lm-img/img/2024/03/19/1600x900/G20-SUMMIT--120_1694258217163_1710817800195.JPG', 'publishedAt': '2024-03-19T03:28:17Z', 'content': 'Following the successful mission of the Indian warship INS Kolkata, which led to the surrender of all 35 pirates aboard the pirate ship MV Ruen, Prime Minister Narendra Modi on Tuesday said that Indi… [+2205 chars]'}, {'source': {'id': None, 'name': 'Livemint'}, 'author': 'Alka Jain', 'title': 'SC to hear over 200 pleas seeking a stay of CAA rules today. What we know so far | Mint - Mint', 'description': 'The Supreme Court of India to hear 200 petitions challenging Citizenship Amendment Act implementation seeking a stay. CAA implemented by Central government five years after passing in parliament.', 'url': 'https://www.livemint.com/news/india/sc-to-hear-over-200-pleas-seeking-a-stay-of-caa-rules-today-what-we-know-so-far-11710813775414.html', 'urlToImage': 'https://www.livemint.com/lm-img/img/2024/03/19/1600x900/The-Supreme-Court-of-India--ANI-_1710751436024_1710815076139.jpg', 'publishedAt': '2024-03-19T02:28:02Z', 'content': 'The Supreme Court of India will hear a cluster of about 200 petitions challenging the implementation of the Citizenship (Amendment) Act, 2019 today, March 19. The petitions are seeking a stay on CAA … [+6199 chars]'}, {'source': {'id': None, 'name': 'Moneycontrol'}, 'author': 'Moneycontrol News', 'title': 'Morning Scan: All the big stories to get you started for the day - Moneycontrol', 'description': 'A round-up of top newspaper stories to keep you ahead of others.', 'url': 'https://www.moneycontrol.com/news/business/morning-scan-all-the-big-stories-to-get-you-started-for-the-day-678-12483881.html', 'urlToImage': 'https://images.moneycontrol.com/static-mcnews/2023/04/morning-scan-8-770x431.jpg', 'publishedAt': '2024-03-19T02:09:06Z', 'content': '#1. Funding winter may end as Indias start-ups get set to raise $8-10 billion in 2024\\r\\nSetting an upbeat tone for the Startup Mahakumbh summit that has begun in New Delhi, Rajan Anandan, managing par… [+6782 chars]'}, {'source': {'id': None, 'name': 'NDTV News'}, 'author': None, 'title': '20-Year-Old Indian Student Found Dead In US, Family Alleges Murder - NDTV', 'description': 'NDTV.com: India, Business, Bollywood, Cricket, Video and Breaking News', 'url': 'https://www.ndtv.com', 'urlToImage': 'https://cdn.ndtv.com/common/images/ogndtv.png', 'publishedAt': '2024-03-19T02:05:35Z', 'content': None}, {'source': {'id': 'the-hindu', 'name': 'The Hindu'}, 'author': 'The Hindu', 'title': \"Lok Sabha elections 2024 LIVE updates | After announcing tieup with BJP, PMK' Anbumani to share stage with PM Modi in Salem - The Hindu\", 'description': None, 'url': 'https://www.thehindu.com/elections/lok-sabha/lok-sabha-2024-elections-live-march-19-2024/article67967073.ece', 'urlToImage': None, 'publishedAt': '2024-03-19T01:59:00Z', 'content': None}, {'source': {'id': None, 'name': 'Livemint'}, 'author': 'Karishma Pranav Bhavsar', 'title': \"Yodha Box Office Collection Day 4: Sidharth Malhotra's movie see massive drop, earns ₹2.5 crore in India | Mint - Mint\", 'description': 'Yodha Box Office Collection Day 4: Yodha film has earned  ₹19 crore net in India over four days, with Day 4 collection at  ₹2.15 crore. Day 3 saw a spike with  ₹7 crore and Day 2 with  ₹5.75 crore net.', 'url': 'https://www.livemint.com/news/trends/yodha-box-office-collection-day-4-sidharth-malhotras-movie-see-massive-drop-earns-rs-2-5-crore-in-india-11710810393663.html', 'urlToImage': 'https://www.livemint.com/lm-img/img/2024/03/19/1600x900/Yodha_1_1710476728241_1710810980776.png', 'publishedAt': '2024-03-19T01:52:20Z', 'content': 'Yodha Box Office Collection Day 4: Siddharth Malhotra starrer Bollywood movie Yodha\" witnessed a significant drop in its daily collection on Monday i.e. on 18 March. Early estimate show that the film… [+6025 chars]'}, {'source': {'id': 'the-times-of-india', 'name': 'The Times of India'}, 'author': 'TOI Entertainment Desk', 'title': 'Shaitaan box office collection Day 11: Ajay Devgn starrer continues to dominate in week 2; surpasses Sidh - TOI Etimes', 'description': \"Ajay Devgn's film 'Shaitaan' continued its reign over the Indian box office, and emerged as the highest-earning film on Monday. The film has a total domestic collection of Rs 106 crore. The collections from overseas markets pushed its worldwide earnings past …\", 'url': 'https://timesofindia.indiatimes.com/entertainment/hindi/bollywood/box-office/shaitaan-box-office-collection-day-11-ajay-devgn-starrer-continues-to-dominate-in-week-2-surpasses-sidharth-malhotras-yodha-collections/articleshow/108600651.cms', 'urlToImage': 'https://static.toiimg.com/thumb/msid-108600654,width-1070,height-580,imgsize-44566,resizemode-75,overlay-toi_sw,pt-32,y_pad-40/photo.jpg', 'publishedAt': '2024-03-19T01:45:00Z', 'content': None}, {'source': {'id': None, 'name': 'Livemint'}, 'author': 'Livemint', 'title': 'Indian stock market: 7 key things that changed for market overnight - Gift Nifty, US tech stocks rally to oil prices | Mint - Mint', 'description': 'Indian stock market: Gift Nifty was trading around the 22,060 level, a discount of over 70 points from the Nifty futures’ previous close, indicating a gap-down start for the Indian stock market indices.', 'url': 'https://www.livemint.com/market/stock-market-news/indian-stock-market-7-key-things-that-changed-for-market-overnight-gift-nifty-us-tech-stocks-rally-to-oil-prices-11710811326780.html', 'urlToImage': 'https://www.livemint.com/lm-img/img/2024/03/19/1600x900/2-0-77901150-Tokyo-stock-4Cnew--0_1681472731882_1710811592069.jpg', 'publishedAt': '2024-03-19T01:31:29Z', 'content': 'Indian stock market: The domestic equity market is expected to open on a weak note Tuesday tracking mixed global market cues ahead of the monetary policy decisions of various global central banks. As… [+4964 chars]'}, {'source': {'id': 'the-times-of-india', 'name': 'The Times of India'}, 'author': 'Bloomberg', 'title': 'Apple in talks to let Google’s Gemini power AI on iPhones - The Times of India', 'description': \"International Business News: Apple is reportedly in discussions to integrate Google's Gemini artificial intelligence system into the iPhone, as per sources familiar with the matte\", 'url': 'https://timesofindia.indiatimes.com/business/international-business/apple-in-talks-to-let-googles-gemini-power-ai-on-iphones/articleshow/108600593.cms', 'urlToImage': 'https://static.toiimg.com/thumb/msid-108600589,width-1070,height-580,imgsize-34956,resizemode-75,overlay-toi_sw,pt-32,y_pad-40/photo.jpg', 'publishedAt': '2024-03-19T01:09:00Z', 'content': 'FD Calculator\\r\\nWhen investing in a fixed deposit, the amount you deposit earns interest as per the prevailing...\\r\\nCalculate Now'}, {'source': {'id': 'the-times-of-india', 'name': 'The Times of India'}, 'author': 'ET Bureau', 'title': 'Tata Sons plans to sell Rs 9,300 crore slice of TCS - The Economic Times', 'description': 'As of December 31, 2023, Tata Sons held a 72.38% stake in TCS. The stock slid 1.75% to ₹4,144.75 on the BSE Monday. TCS has a market capitalisation just north of ₹15 lakh crore - nearly half the total market value of all the Tata Group listed companies at ₹31…', 'url': 'https://economictimes.indiatimes.com/markets/stocks/news/tata-sons-plans-to-sell-rs-9300-crore-slice-of-tcs/articleshow/108600588.cms', 'urlToImage': 'https://img.etimg.com/thumb/msid-108600604,width-1200,height-630,imgsize-773733,overlay-etmarkets/photo.jpg', 'publishedAt': '2024-03-19T01:08:17Z', 'content': \"Mumbai: Tata Sons, the holding company of Tata Consultancy Services (TCS), plans to sell 23.4 million shares in India's largest software services exporter for at least 9,300 crore on Tuesday, showed … [+2780 chars]\"}, {'source': {'id': None, 'name': 'India Today'}, 'author': 'Arunesh Kumar Sharma', 'title': 'Horoscope Today, March 19, 2024: Check here Astrological prediction for all zodiac signs - India Today', 'description': 'Today Horoscope Astrological prediction for March 19 2024 Find out answers to your deepest burning questions related to love health money career in this daily horoscope for Aries Taurus Gemini Cancer Leo Virgo Libra Scorpio Sagittarius Capricorn Aquarius and …', 'url': 'https://www.indiatoday.in/horoscopes/story/horoscope-today-march-19-2024-aries-taurus-gemini-cancer-leo-virgo-libra-scorpio-sagittarius-capricorn-aquarius-pisces-2516366-2024-03-19', 'urlToImage': 'https://akm-img-a-in.tosshub.com/indiatoday/images/story/202403/main-tarot-284321466-16x9_17.jpg?VersionId=HPCFwzY_i.LOq29rFwEzFHgPfu84ElpV', 'publishedAt': '2024-03-19T01:00:02Z', 'content': 'Are you expecting a job offer or communication with your romantic partner? Look for your Sun sign in the daily horoscope below and find out.\\r\\nAries Daily Horoscope\\r\\nYou will improve social dialogue. … [+8082 chars]'}, {'source': {'id': None, 'name': 'Hindustan Times'}, 'author': 'HT Sports Desk', 'title': \"Virat Kohli's internet-breaking gesture fell flat as Smriti Mandhana 'didn't hear anything' during video call - Hindustan Times\", 'description': \"Smriti Mandhana's comment in the post-match press conference revealed that the women's team will be present at the RCB Unbox event on March 19 | Cricket\", 'url': 'https://www.hindustantimes.com/cricket/virat-kohli-internet-breaking-gesture-fell-flat-smriti-mandhana-did-not-hear-anything-video-call-rcb-wpl-2024-final-dc-101710744214019.html', 'urlToImage': 'https://www.hindustantimes.com/ht-img/img/2024/03/18/1600x900/mandhana_kohli_video_1710744964194_1710744980168.jpg', 'publishedAt': '2024-03-19T00:58:00Z', 'content': 'Just as Richa Ghosh went for a lofted drive over extra cover to score the match-winning run for Royal Challengers Bangalore in the WPL 2024 final on Sunday against Delhi Capitals at the Arun Jaitley … [+2018 chars]'}, {'source': {'id': None, 'name': 'NDTV News'}, 'author': None, 'title': \"Delhi World's Most Polluted Capital City Again: Report - NDTV\", 'description': \"Bihar's Begusarai emerged as the world's most polluted metropolitan area while Delhi was identified as the capital city with the poorest air quality, according to a new report.\", 'url': 'https://www.ndtv.com/india-news/delhi-worlds-most-polluted-capital-city-again-report-5265746', 'urlToImage': 'https://c.ndtvimg.com/2021-12/quj1vgd_delhi-pollution-pti-delhi-air-quality-pti-photo_625x300_16_December_21.jpg', 'publishedAt': '2024-03-19T00:36:56Z', 'content': \"Delhi was ranked the most polluted capital city in the world four times on the trot starting 2018.\\r\\nNew Delhi: \\xa0Bihar's Begusarai emerged as the world's most polluted metropolitan area while Delhi wa… [+2793 chars]\"}, {'source': {'id': None, 'name': 'The Indian Express'}, 'author': 'The Indian Express', 'title': '‘Namaz not the only trigger for violence; foreign students need to be sensitised’: Neerja Gupta - The Indian Express', 'description': None, 'url': 'https://indianexpress.com/article/cities/ahmedabad/namaz-not-the-only-trigger-for-violence-foreign-students-need-to-be-sensitised-neerja-gupta-9221553/', 'urlToImage': None, 'publishedAt': '2024-03-18T23:00:46Z', 'content': None}, {'source': {'id': 'the-times-of-india', 'name': 'The Times of India'}, 'author': 'TNN', 'title': 'Kavitha plotted with CM, Sisodia, involved in Rs 100 crore payoff, says ED - The Times of India', 'description': \"Enforcement Directorate implicates K Kavitha, linking Delhi CM Arvind Kejriwal and state's former minister Manish Sisodia in a liquor policy scam. AAP\", 'url': 'https://timesofindia.indiatimes.com/city/delhi/kavitha-plotted-with-cm-sisodia-involved-in-rs-100-crore-payoff-says-ed/articleshow/108598365.cms', 'urlToImage': 'https://static.toiimg.com/thumb/msid-108600157,width-1070,height-580,imgsize-1377275,resizemode-75,overlay-toi_sw,pt-32,y_pad-40/photo.jpg', 'publishedAt': '2024-03-18T22:48:00Z', 'content': 'The perfect one-week itinerary for Kerala, and the 7 places to cover'}, {'source': {'id': None, 'name': 'Republic World'}, 'author': 'Isha Bhandari', 'title': \"In Pictures | Elon Musk's Starship Captures Breathtaking Images of Earth - Republic World\", 'description': \"Elon Musk's SpaceX has once again captured the world's attention with stunning images of Earth taken by its Starship during its first successful flight through space on Thursday. The Starship, hailed as the world's most powerful rocket, achieved its farthest …\", 'url': 'https://www.republicworld.com/science/space/in-pictures-elon-musk-starship-captures-breathtaking-images-of-earth', 'urlToImage': 'https://img.republicworld.com/rimages/giwqzyxbsaaksva-171079544527616_9.webp', 'publishedAt': '2024-03-18T20:57:00Z', 'content': \"Elon Musk's SpaceX has once again captured the world's attention with stunning images of Earth taken by its Starship during its first successful flight through space on Thursday. The Starship, hailed… [+2964 chars]\"}, {'source': {'id': 'fortune', 'name': 'Fortune'}, 'author': 'Dylan Sloan', 'title': 'The Musk-Modi show, and Tesla’s $151 billion gateway to India - Fortune', 'description': 'India opens door for foreign EV sellers with new tax cuts, but rules won’t hurt domestic giants in the short term.', 'url': 'https://fortune.com/2024/03/18/india-ev-tariffs-tesla-narendra-modi-elon-musk/', 'urlToImage': 'https://content.fortune.com/wp-content/uploads/2024/03/GettyImages-1258890718.jpg?resize=1200,600', 'publishedAt': '2024-03-18T20:06:00Z', 'content': 'New tax cuts from India could be the key Tesla and its EV competitors need to unlock the worlds third-largest auto marketbut only if the government backs off on limiting sales.For years, India has le… [+3272 chars]'}, {'source': {'id': None, 'name': 'Hindustan Times'}, 'author': 'Bloomberg', 'title': 'Biden warns Netanyahu over Rafah attack; team to visit DC - Hindustan Times', 'description': 'President Joe Biden warned Israeli Prime Minister Benjamin Netanyahu a major ground operation in Rafah would be a mistake. | World News', 'url': 'https://www.hindustantimes.com/world-news/biden-warns-netanyahu-over-rafah-attack-team-to-visit-dc-101710791220760.html', 'urlToImage': 'https://www.hindustantimes.com/ht-img/img/2024/03/18/1600x900/USA-IRELAND--14_1710532163483_1710791288883.JPG', 'publishedAt': '2024-03-18T19:57:52Z', 'content': 'President Joe Biden warned Israeli Prime Minister Benjamin Netanyahu a major ground operation in Rafah would be a mistake and the two agreed to hold talks in Washington about Israels war plans in the… [+3223 chars]'}]}\n"
     ]
    }
   ],
   "source": [
    "\n",
    "\n",
    "import requests, json\n",
    "response = requests.get(\"https://newsapi.org/v2/top-headlines?country=in&apiKey=a908a557fb044068b404fe08cdc75407\")\n",
    "print(response.json())"
   ]
  },
  {
   "cell_type": "code",
   "execution_count": 22,
   "metadata": {},
   "outputs": [
    {
     "name": "stdout",
     "output_type": "stream",
     "text": [
      "***\n",
      "None\n",
      "\"I Am Very Tough Guy To Handle\": Gambhir's Blunt Message To KKR Bosses - NDTV Sports\n",
      "None\n",
      "***\n",
      "Gaurav Gupta\n",
      "IPL 2024: Rohit Sharma will have his hand on my shoulder, says Hardik Pandya - The Times of India\n",
      "Most runs in a single PSL season\n",
      "***\n",
      "Livemint\n",
      "'India committed to combating piracy and terrorism in Indian Ocean region,' says PM Modi | Mint - Mint\n",
      "Following the successful mission of the Indian warship INS Kolkata, which led to the surrender of all 35 pirates aboard the pirate ship MV Ruen, Prime Minister Narendra Modi on Tuesday said that Indi… [+2205 chars]\n",
      "***\n",
      "Alka Jain\n",
      "SC to hear over 200 pleas seeking a stay of CAA rules today. What we know so far | Mint - Mint\n",
      "The Supreme Court of India will hear a cluster of about 200 petitions challenging the implementation of the Citizenship (Amendment) Act, 2019 today, March 19. The petitions are seeking a stay on CAA … [+6199 chars]\n",
      "***\n",
      "Moneycontrol News\n",
      "Morning Scan: All the big stories to get you started for the day - Moneycontrol\n",
      "#1. Funding winter may end as Indias start-ups get set to raise $8-10 billion in 2024\n",
      "Setting an upbeat tone for the Startup Mahakumbh summit that has begun in New Delhi, Rajan Anandan, managing par… [+6782 chars]\n",
      "***\n",
      "None\n",
      "20-Year-Old Indian Student Found Dead In US, Family Alleges Murder - NDTV\n",
      "None\n",
      "***\n",
      "The Hindu\n",
      "Lok Sabha elections 2024 LIVE updates | After announcing tieup with BJP, PMK' Anbumani to share stage with PM Modi in Salem - The Hindu\n",
      "None\n",
      "***\n",
      "Karishma Pranav Bhavsar\n",
      "Yodha Box Office Collection Day 4: Sidharth Malhotra's movie see massive drop, earns ₹2.5 crore in India | Mint - Mint\n",
      "Yodha Box Office Collection Day 4: Siddharth Malhotra starrer Bollywood movie Yodha\" witnessed a significant drop in its daily collection on Monday i.e. on 18 March. Early estimate show that the film… [+6025 chars]\n",
      "***\n",
      "TOI Entertainment Desk\n",
      "Shaitaan box office collection Day 11: Ajay Devgn starrer continues to dominate in week 2; surpasses Sidh - TOI Etimes\n",
      "None\n",
      "***\n",
      "Livemint\n",
      "Indian stock market: 7 key things that changed for market overnight - Gift Nifty, US tech stocks rally to oil prices | Mint - Mint\n",
      "Indian stock market: The domestic equity market is expected to open on a weak note Tuesday tracking mixed global market cues ahead of the monetary policy decisions of various global central banks. As… [+4964 chars]\n",
      "***\n",
      "Bloomberg\n",
      "Apple in talks to let Google’s Gemini power AI on iPhones - The Times of India\n",
      "FD Calculator\n",
      "When investing in a fixed deposit, the amount you deposit earns interest as per the prevailing...\n",
      "Calculate Now\n",
      "***\n",
      "ET Bureau\n",
      "Tata Sons plans to sell Rs 9,300 crore slice of TCS - The Economic Times\n",
      "Mumbai: Tata Sons, the holding company of Tata Consultancy Services (TCS), plans to sell 23.4 million shares in India's largest software services exporter for at least 9,300 crore on Tuesday, showed … [+2780 chars]\n",
      "***\n",
      "Arunesh Kumar Sharma\n",
      "Horoscope Today, March 19, 2024: Check here Astrological prediction for all zodiac signs - India Today\n",
      "Are you expecting a job offer or communication with your romantic partner? Look for your Sun sign in the daily horoscope below and find out.\n",
      "Aries Daily Horoscope\n",
      "You will improve social dialogue. … [+8082 chars]\n",
      "***\n",
      "HT Sports Desk\n",
      "Virat Kohli's internet-breaking gesture fell flat as Smriti Mandhana 'didn't hear anything' during video call - Hindustan Times\n",
      "Just as Richa Ghosh went for a lofted drive over extra cover to score the match-winning run for Royal Challengers Bangalore in the WPL 2024 final on Sunday against Delhi Capitals at the Arun Jaitley … [+2018 chars]\n",
      "***\n",
      "None\n",
      "Delhi World's Most Polluted Capital City Again: Report - NDTV\n",
      "Delhi was ranked the most polluted capital city in the world four times on the trot starting 2018.\n",
      "New Delhi:  Bihar's Begusarai emerged as the world's most polluted metropolitan area while Delhi wa… [+2793 chars]\n",
      "***\n",
      "The Indian Express\n",
      "‘Namaz not the only trigger for violence; foreign students need to be sensitised’: Neerja Gupta - The Indian Express\n",
      "None\n",
      "***\n",
      "TNN\n",
      "Kavitha plotted with CM, Sisodia, involved in Rs 100 crore payoff, says ED - The Times of India\n",
      "The perfect one-week itinerary for Kerala, and the 7 places to cover\n",
      "***\n",
      "Isha Bhandari\n",
      "In Pictures | Elon Musk's Starship Captures Breathtaking Images of Earth - Republic World\n",
      "Elon Musk's SpaceX has once again captured the world's attention with stunning images of Earth taken by its Starship during its first successful flight through space on Thursday. The Starship, hailed… [+2964 chars]\n",
      "***\n",
      "Dylan Sloan\n",
      "The Musk-Modi show, and Tesla’s $151 billion gateway to India - Fortune\n",
      "New tax cuts from India could be the key Tesla and its EV competitors need to unlock the worlds third-largest auto marketbut only if the government backs off on limiting sales.For years, India has le… [+3272 chars]\n",
      "***\n",
      "Bloomberg\n",
      "Biden warns Netanyahu over Rafah attack; team to visit DC - Hindustan Times\n",
      "President Joe Biden warned Israeli Prime Minister Benjamin Netanyahu a major ground operation in Rafah would be a mistake and the two agreed to hold talks in Washington about Israels war plans in the… [+3223 chars]\n"
     ]
    }
   ],
   "source": [
    "for newitem in response.json()['articles']:\n",
    "    print('***')\n",
    "    print(newitem['author'])\n",
    "    print(newitem['title'])\n",
    "    print(newitem['content'])"
   ]
  },
  {
   "cell_type": "code",
   "execution_count": 26,
   "metadata": {},
   "outputs": [],
   "source": [
    "from datetime import datetime\n",
    "newsdb = mongoClient['newsdb']\n",
    "newcol = newsdb['news']\n",
    "\n",
    "for newsitem in response.json()['articles']:\n",
    "    author = newsitem['author']\n",
    "    title = newsitem['title']\n",
    "    desc = newsitem['description']\n",
    "    newsdoc = {'author':author , 'title':title,'desc':desc,'newsdate':datetime.now()}\n",
    "    newcol.insert_one(newsdoc)\n"
   ]
  },
  {
   "cell_type": "code",
   "execution_count": null,
   "metadata": {},
   "outputs": [],
   "source": []
  }
 ],
 "metadata": {
  "kernelspec": {
   "display_name": "Python 3",
   "language": "python",
   "name": "python3"
  },
  "language_info": {
   "codemirror_mode": {
    "name": "ipython",
    "version": 3
   },
   "file_extension": ".py",
   "mimetype": "text/x-python",
   "name": "python",
   "nbconvert_exporter": "python",
   "pygments_lexer": "ipython3",
   "version": "3.12.1"
  }
 },
 "nbformat": 4,
 "nbformat_minor": 2
}
